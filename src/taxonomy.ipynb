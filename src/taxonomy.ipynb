{
 "cells": [
  {
   "cell_type": "markdown",
   "metadata": {},
   "source": [
    "# Taxonomy analysis\n",
    "This notebook generates the real taxonomy/lineage information of each species. This will be used to check the correctness of the phylogenetic trees which were generated using hierarchical clustering."
   ]
  },
  {
   "cell_type": "code",
   "execution_count": 1,
   "metadata": {},
   "outputs": [],
   "source": [
    "import os\n",
    "from tqdm.notebook import trange\n",
    "import pandas as pd\n",
    "import numpy as np"
   ]
  },
  {
   "cell_type": "code",
   "execution_count": null,
   "metadata": {},
   "outputs": [],
   "source": [
    "# Config\n",
    "if not 'chdir' in globals():\n",
    "    os.chdir('..')\n",
    "chdir = True"
   ]
  },
  {
   "cell_type": "markdown",
   "metadata": {},
   "source": [
    "---"
   ]
  },
  {
   "cell_type": "markdown",
   "metadata": {},
   "source": [
    "## Create taxonomy dataset\n",
    "`dat/tax.csv`"
   ]
  },
  {
   "cell_type": "code",
   "execution_count": 50,
   "metadata": {},
   "outputs": [],
   "source": [
    "# Load data\n",
    "species = pd.read_csv('dat/data.csv')\n",
    "del species['dna']"
   ]
  },
  {
   "cell_type": "code",
   "execution_count": 12,
   "metadata": {},
   "outputs": [],
   "source": [
    "# Write species names to file\n",
    "with open('dat/species_names.txt', 'w') as f:\n",
    "    f.writelines(s + '\\n' for s in species.name.to_list())"
   ]
  },
  {
   "cell_type": "code",
   "execution_count": 13,
   "metadata": {},
   "outputs": [],
   "source": [
    "# Next step: generate dat/tax_report.txt using dat/species_names.txt\n",
    "# https://www.ncbi.nlm.nih.gov/Taxonomy/TaxIdentifier/tax_identifier.cgi"
   ]
  },
  {
   "cell_type": "code",
   "execution_count": 14,
   "metadata": {},
   "outputs": [],
   "source": [
    "# Read in generated taxonomy information\n",
    "with open('dat/tax_report.txt') as f:\n",
    "    data = f.readlines()"
   ]
  },
  {
   "cell_type": "code",
   "execution_count": 51,
   "metadata": {},
   "outputs": [],
   "source": [
    "seen = []\n",
    "i = 0\n",
    "for line in data[2:]:\n",
    "    line = line.strip().split('\\t|\\t')\n",
    "    if line[1] not in seen:\n",
    "        seen.append(line[1])\n",
    "        species.loc[i, 'tax'] = line[-1]\n",
    "        i += 1\n",
    "\n",
    "assert i == len(species)"
   ]
  },
  {
   "cell_type": "code",
   "execution_count": 52,
   "metadata": {},
   "outputs": [
    {
     "data": {
      "text/html": [
       "<div>\n",
       "<style scoped>\n",
       "    .dataframe tbody tr th:only-of-type {\n",
       "        vertical-align: middle;\n",
       "    }\n",
       "\n",
       "    .dataframe tbody tr th {\n",
       "        vertical-align: top;\n",
       "    }\n",
       "\n",
       "    .dataframe thead th {\n",
       "        text-align: right;\n",
       "    }\n",
       "</style>\n",
       "<table border=\"1\" class=\"dataframe\">\n",
       "  <thead>\n",
       "    <tr style=\"text-align: right;\">\n",
       "      <th></th>\n",
       "      <th>id</th>\n",
       "      <th>name</th>\n",
       "      <th>tax</th>\n",
       "    </tr>\n",
       "  </thead>\n",
       "  <tbody>\n",
       "    <tr>\n",
       "      <th>0</th>\n",
       "      <td>GCA_905340225.1</td>\n",
       "      <td>Abrostola tripartita</td>\n",
       "      <td>938171 254364 95186 7100 37570 104431 37567 41...</td>\n",
       "    </tr>\n",
       "    <tr>\n",
       "      <th>1</th>\n",
       "      <td>GCF_001949145.1</td>\n",
       "      <td>crown-of-thorns starfish</td>\n",
       "      <td>133434 133433 133432 41166 41243 7588 7587 133...</td>\n",
       "    </tr>\n",
       "    <tr>\n",
       "      <th>2</th>\n",
       "      <td>GCA_016904835.1</td>\n",
       "      <td>rifleman</td>\n",
       "      <td>57068 57067 38633 9126 8825 8782 436492 436491...</td>\n",
       "    </tr>\n",
       "    <tr>\n",
       "      <th>3</th>\n",
       "      <td>GCA_021347895.1</td>\n",
       "      <td>spiny chromis</td>\n",
       "      <td>80966 80965 30863 1489909 1489908 1489872 1233...</td>\n",
       "    </tr>\n",
       "    <tr>\n",
       "      <th>4</th>\n",
       "      <td>GCF_904848185.1</td>\n",
       "      <td>yellowfin seabream</td>\n",
       "      <td>8177 8176 8169 1489931 1489922 1489872 123369 ...</td>\n",
       "    </tr>\n",
       "    <tr>\n",
       "      <th>...</th>\n",
       "      <td>...</td>\n",
       "      <td>...</td>\n",
       "      <td>...</td>\n",
       "    </tr>\n",
       "    <tr>\n",
       "      <th>719</th>\n",
       "      <td>GCA_020796205.1</td>\n",
       "      <td>Ziziphus jujuba var. spinosa</td>\n",
       "      <td>714518 326968 72171 325284 3608 3744 91835 712...</td>\n",
       "    </tr>\n",
       "    <tr>\n",
       "      <th>720</th>\n",
       "      <td>GCF_000696155.1</td>\n",
       "      <td>Zootermopsis nevadensis</td>\n",
       "      <td>136037 7502 127821 127820 7501 1912919 1049657...</td>\n",
       "    </tr>\n",
       "    <tr>\n",
       "      <th>721</th>\n",
       "      <td>GCF_011800845.1</td>\n",
       "      <td>common lizard</td>\n",
       "      <td>8524 141678 162266 8522 1329975 1329976 132991...</td>\n",
       "    </tr>\n",
       "    <tr>\n",
       "      <th>722</th>\n",
       "      <td>GCA_907165275.2</td>\n",
       "      <td>Zygaena filipendulae</td>\n",
       "      <td>287375 287110 287187 115354 104435 104430 3756...</td>\n",
       "    </tr>\n",
       "    <tr>\n",
       "      <th>723</th>\n",
       "      <td>GCA_002219185.1</td>\n",
       "      <td>[Candida] glabrata</td>\n",
       "      <td>5478 600669 374468 4893 4892 4891 147537 71654...</td>\n",
       "    </tr>\n",
       "  </tbody>\n",
       "</table>\n",
       "<p>724 rows × 3 columns</p>\n",
       "</div>"
      ],
      "text/plain": [
       "                  id                          name  \\\n",
       "0    GCA_905340225.1          Abrostola tripartita   \n",
       "1    GCF_001949145.1      crown-of-thorns starfish   \n",
       "2    GCA_016904835.1                      rifleman   \n",
       "3    GCA_021347895.1                 spiny chromis   \n",
       "4    GCF_904848185.1            yellowfin seabream   \n",
       "..               ...                           ...   \n",
       "719  GCA_020796205.1  Ziziphus jujuba var. spinosa   \n",
       "720  GCF_000696155.1       Zootermopsis nevadensis   \n",
       "721  GCF_011800845.1                 common lizard   \n",
       "722  GCA_907165275.2          Zygaena filipendulae   \n",
       "723  GCA_002219185.1            [Candida] glabrata   \n",
       "\n",
       "                                                   tax  \n",
       "0    938171 254364 95186 7100 37570 104431 37567 41...  \n",
       "1    133434 133433 133432 41166 41243 7588 7587 133...  \n",
       "2    57068 57067 38633 9126 8825 8782 436492 436491...  \n",
       "3    80966 80965 30863 1489909 1489908 1489872 1233...  \n",
       "4    8177 8176 8169 1489931 1489922 1489872 123369 ...  \n",
       "..                                                 ...  \n",
       "719  714518 326968 72171 325284 3608 3744 91835 712...  \n",
       "720  136037 7502 127821 127820 7501 1912919 1049657...  \n",
       "721  8524 141678 162266 8522 1329975 1329976 132991...  \n",
       "722  287375 287110 287187 115354 104435 104430 3756...  \n",
       "723  5478 600669 374468 4893 4892 4891 147537 71654...  \n",
       "\n",
       "[724 rows x 3 columns]"
      ]
     },
     "execution_count": 52,
     "metadata": {},
     "output_type": "execute_result"
    }
   ],
   "source": [
    "species"
   ]
  },
  {
   "cell_type": "code",
   "execution_count": 53,
   "metadata": {},
   "outputs": [],
   "source": [
    "# Save data as csv file\n",
    "species.to_csv('dat/tax.csv', index=False)"
   ]
  },
  {
   "cell_type": "markdown",
   "metadata": {},
   "source": [
    "## Generate taxonomy distance matrix\n",
    "`dat/K_tax.npy`"
   ]
  },
  {
   "cell_type": "code",
   "execution_count": 63,
   "metadata": {},
   "outputs": [
    {
     "data": {
      "application/vnd.jupyter.widget-view+json": {
       "model_id": "3bd5f0c38cb940c4889977f6b15c62e8",
       "version_major": 2,
       "version_minor": 0
      },
      "text/plain": [
       "  0%|          | 0/724 [00:00<?, ?it/s]"
      ]
     },
     "metadata": {},
     "output_type": "display_data"
    }
   ],
   "source": [
    "# Build matrix of taxonomy-overlap (similarity)\n",
    "K_tax = np.full((len(species), len(species)), np.nan)\n",
    "for i in trange(len(species)):\n",
    "    a = species.tax[i].split()\n",
    "    for j in range(i, len(species)):\n",
    "        b = species.tax[j].split()\n",
    "        K_tax[i, j] = K_tax[j, i] = len(set(a) & set(b))\n",
    "\n",
    "# Transform into distance matrix\n",
    "K_tax = K_tax.max(1) - K_tax\n",
    "\n",
    "# Save matrix\n",
    "np.save('dat/K_tax.npy', K_tax)"
   ]
  }
 ],
 "metadata": {
  "interpreter": {
   "hash": "315aaaac15c5614ee0df153e7826c5e922516b4901e8f48eb6d7391361cc168b"
  },
  "kernelspec": {
   "display_name": "Python 3.8.12 64-bit ('.venv': poetry)",
   "language": "python",
   "name": "python3"
  },
  "language_info": {
   "codemirror_mode": {
    "name": "ipython",
    "version": 3
   },
   "file_extension": ".py",
   "mimetype": "text/x-python",
   "name": "python",
   "nbconvert_exporter": "python",
   "pygments_lexer": "ipython3",
   "version": "3.8.12"
  },
  "orig_nbformat": 4
 },
 "nbformat": 4,
 "nbformat_minor": 2
}
